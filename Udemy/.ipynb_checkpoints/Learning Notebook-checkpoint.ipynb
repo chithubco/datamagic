{
 "cells": [
  {
   "cell_type": "markdown",
   "id": "db80555b",
   "metadata": {},
   "source": [
    "<h2>Set and Dictionary Comprehensions</h2>\n",
    "<p>Creating a dictionary using a set comprehension</p>"
   ]
  },
  {
   "cell_type": "code",
   "execution_count": 2,
   "id": "1d43fb27",
   "metadata": {},
   "outputs": [
    {
     "name": "stdout",
     "output_type": "stream",
     "text": [
      "{'charlie': 15, 'Jean': 11}\n"
     ]
    }
   ],
   "source": [
    "friends = [\"Rolf\",\"ruth\",\"charlie\",\"Jean\"]\n",
    "time_since_seen = [3,7,15,11]\n",
    "\n",
    "result = {\n",
    "    friends[i]:time_since_seen[i]\n",
    "    for i in range(len(friends))\n",
    "    if time_since_seen[i] > 7\n",
    "}\n",
    "print(result)"
   ]
  },
  {
   "cell_type": "markdown",
   "id": "32c51d29",
   "metadata": {},
   "source": [
    "<h2>Zip Function</h2>\n",
    "<p>Zip two list together</p>"
   ]
  },
  {
   "cell_type": "code",
   "execution_count": 3,
   "id": "39c49a44",
   "metadata": {},
   "outputs": [
    {
     "name": "stdout",
     "output_type": "stream",
     "text": [
      "{'Rolf': 3, 'ruth': 7, 'charlie': 15, 'Jean': 11}\n"
     ]
    }
   ],
   "source": [
    "zipped_result = dict(zip(friends,time_since_seen))\n",
    "print(zipped_result)"
   ]
  },
  {
   "cell_type": "markdown",
   "id": "80814ca2",
   "metadata": {},
   "source": [
    "<h2>Enumerate Function</h2>\n",
    "<p>Gives us an index for each item in our loop</p>"
   ]
  },
  {
   "cell_type": "code",
   "execution_count": 5,
   "id": "94b2d92b",
   "metadata": {},
   "outputs": [
    {
     "name": "stdout",
     "output_type": "stream",
     "text": [
      "0\n",
      "Rolf\n",
      "1\n",
      "ruth\n",
      "2\n",
      "charlie\n",
      "3\n",
      "Jean\n"
     ]
    }
   ],
   "source": [
    "for counter, friend in enumerate(friends):\n",
    "    print(counter)\n",
    "    print(friend)"
   ]
  },
  {
   "cell_type": "code",
   "execution_count": 6,
   "id": "a0a399b0",
   "metadata": {},
   "outputs": [
    {
     "name": "stdout",
     "output_type": "stream",
     "text": [
      "[(0, 'Rolf'), (1, 'ruth'), (2, 'charlie'), (3, 'Jean')]\n"
     ]
    }
   ],
   "source": [
    "print(list(enumerate(friends)))"
   ]
  },
  {
   "cell_type": "code",
   "execution_count": 7,
   "id": "370392ee",
   "metadata": {},
   "outputs": [
    {
     "name": "stdout",
     "output_type": "stream",
     "text": [
      "{1: 'Rolf', 2: 'ruth', 3: 'charlie', 4: 'Jean'}\n"
     ]
    }
   ],
   "source": [
    "print(dict(enumerate(friends, start=1)))"
   ]
  },
  {
   "cell_type": "markdown",
   "id": "a1e2b11c",
   "metadata": {},
   "source": [
    "<h2>Lottery Example</h2>\n",
    "<p>Match Lottery winning numbers</p>"
   ]
  },
  {
   "cell_type": "code",
   "execution_count": 11,
   "id": "51dd75f2",
   "metadata": {},
   "outputs": [
    {
     "name": "stdout",
     "output_type": "stream",
     "text": [
      "Rolf won 1000000\n"
     ]
    }
   ],
   "source": [
    "import random\n",
    "lottery_numbers = set(random.sample(range(22),6))\n",
    "    # print(lottery_numbers)\n",
    "\n",
    "players = [\n",
    "    {'name': 'Rolf', 'numbers': {1, 3, 5, 7, 9, 11}},\n",
    "    {'name': 'Charlie', 'numbers': {2, 7, 9, 22, 10, 5}},\n",
    "    {'name': 'Anna', 'numbers': {13, 14, 15, 16, 17, 18}},\n",
    "    {'name': 'Jen', 'numbers': {19, 20, 12, 7, 3, 5}}\n",
    "]\n",
    "current_high = 0\n",
    "current_winner = {}\n",
    "matched_number = 0\n",
    "for player in players:\n",
    "    selected_number = set(player['numbers'])\n",
    "    matched_number = selected_number.intersection(lottery_numbers)\n",
    "    if len(matched_number) > current_high:\n",
    "        current_winner = player\n",
    "         # print(f\"Current Leader: {matched_number}\")\n",
    "        # print(f\"{player['name']} : {len(matched_number)}\")\n",
    "        current_high = len(matched_number)\n",
    "\n",
    "winnings = 100 ** current_high\n",
    "print(f\"{current_winner['name']} won {winnings}\")"
   ]
  },
  {
   "cell_type": "code",
   "execution_count": null,
   "id": "df115f89",
   "metadata": {},
   "outputs": [],
   "source": []
  }
 ],
 "metadata": {
  "kernelspec": {
   "display_name": "Python 3",
   "language": "python",
   "name": "python3"
  },
  "language_info": {
   "codemirror_mode": {
    "name": "ipython",
    "version": 3
   },
   "file_extension": ".py",
   "mimetype": "text/x-python",
   "name": "python",
   "nbconvert_exporter": "python",
   "pygments_lexer": "ipython3",
   "version": "3.8.8"
  }
 },
 "nbformat": 4,
 "nbformat_minor": 5
}
