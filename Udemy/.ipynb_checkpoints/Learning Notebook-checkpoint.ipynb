{
 "cells": [
  {
   "cell_type": "markdown",
   "id": "db80555b",
   "metadata": {},
   "source": [
    "<h2>Set and Dictionary Comprehensions</h2>\n",
    "<p>Creating a dictionary using a set comprehension</p>"
   ]
  },
  {
   "cell_type": "code",
   "execution_count": 2,
   "id": "1d43fb27",
   "metadata": {},
   "outputs": [
    {
     "name": "stdout",
     "output_type": "stream",
     "text": [
      "{'charlie': 15, 'Jean': 11}\n"
     ]
    }
   ],
   "source": [
    "friends = [\"Rolf\",\"ruth\",\"charlie\",\"Jean\"]\n",
    "time_since_seen = [3,7,15,11]\n",
    "\n",
    "result = {\n",
    "    friends[i]:time_since_seen[i]\n",
    "    for i in range(len(friends))\n",
    "    if time_since_seen[i] > 7\n",
    "}\n",
    "print(result)"
   ]
  },
  {
   "cell_type": "markdown",
   "id": "32c51d29",
   "metadata": {},
   "source": [
    "<h2>Zip Function</h2>\n",
    "<p>Zip two list together</p>"
   ]
  },
  {
   "cell_type": "code",
   "execution_count": 3,
   "id": "39c49a44",
   "metadata": {},
   "outputs": [
    {
     "name": "stdout",
     "output_type": "stream",
     "text": [
      "{'Rolf': 3, 'ruth': 7, 'charlie': 15, 'Jean': 11}\n"
     ]
    }
   ],
   "source": [
    "zipped_result = dict(zip(friends,time_since_seen))\n",
    "print(zipped_result)"
   ]
  },
  {
   "cell_type": "markdown",
   "id": "80814ca2",
   "metadata": {},
   "source": [
    "<h2>Enumerate Function</h2>\n",
    "<p>Gives us an index for each item in our loop</p>"
   ]
  },
  {
   "cell_type": "code",
   "execution_count": 5,
   "id": "94b2d92b",
   "metadata": {},
   "outputs": [
    {
     "name": "stdout",
     "output_type": "stream",
     "text": [
      "0\n",
      "Rolf\n",
      "1\n",
      "ruth\n",
      "2\n",
      "charlie\n",
      "3\n",
      "Jean\n"
     ]
    }
   ],
   "source": [
    "for counter, friend in enumerate(friends):\n",
    "    print(counter)\n",
    "    print(friend)"
   ]
  },
  {
   "cell_type": "code",
   "execution_count": 6,
   "id": "a0a399b0",
   "metadata": {},
   "outputs": [
    {
     "name": "stdout",
     "output_type": "stream",
     "text": [
      "[(0, 'Rolf'), (1, 'ruth'), (2, 'charlie'), (3, 'Jean')]\n"
     ]
    }
   ],
   "source": [
    "print(list(enumerate(friends)))"
   ]
  },
  {
   "cell_type": "code",
   "execution_count": 7,
   "id": "370392ee",
   "metadata": {},
   "outputs": [
    {
     "name": "stdout",
     "output_type": "stream",
     "text": [
      "{1: 'Rolf', 2: 'ruth', 3: 'charlie', 4: 'Jean'}\n"
     ]
    }
   ],
   "source": [
    "print(dict(enumerate(friends, start=1)))"
   ]
  },
  {
   "cell_type": "markdown",
   "id": "a1e2b11c",
   "metadata": {},
   "source": [
    "<h2>Lottery Example</h2>\n",
    "<p>Match Lottery winning numbers</p>"
   ]
  },
  {
   "cell_type": "code",
   "execution_count": 11,
   "id": "51dd75f2",
   "metadata": {},
   "outputs": [
    {
     "name": "stdout",
     "output_type": "stream",
     "text": [
      "Rolf won 1000000\n"
     ]
    }
   ],
   "source": [
    "import random\n",
    "lottery_numbers = set(random.sample(range(22),6))\n",
    "    # print(lottery_numbers)\n",
    "\n",
    "players = [\n",
    "    {'name': 'Rolf', 'numbers': {1, 3, 5, 7, 9, 11}},\n",
    "    {'name': 'Charlie', 'numbers': {2, 7, 9, 22, 10, 5}},\n",
    "    {'name': 'Anna', 'numbers': {13, 14, 15, 16, 17, 18}},\n",
    "    {'name': 'Jen', 'numbers': {19, 20, 12, 7, 3, 5}}\n",
    "]\n",
    "current_high = 0\n",
    "current_winner = {}\n",
    "matched_number = 0\n",
    "for player in players:\n",
    "    selected_number = set(player['numbers'])\n",
    "    matched_number = selected_number.intersection(lottery_numbers)\n",
    "    if len(matched_number) > current_high:\n",
    "        current_winner = player\n",
    "         # print(f\"Current Leader: {matched_number}\")\n",
    "        # print(f\"{player['name']} : {len(matched_number)}\")\n",
    "        current_high = len(matched_number)\n",
    "\n",
    "winnings = 100 ** current_high\n",
    "print(f\"{current_winner['name']} won {winnings}\")"
   ]
  },
  {
   "cell_type": "markdown",
   "id": "c93f393a",
   "metadata": {},
   "source": [
    "<h2>Map</h2>\n",
    "<p>map(function, iterable)</p>"
   ]
  },
  {
   "cell_type": "code",
   "execution_count": 3,
   "id": "058da4e0",
   "metadata": {},
   "outputs": [
    {
     "name": "stdout",
     "output_type": "stream",
     "text": [
      "[0, 1, 2]\n"
     ]
    }
   ],
   "source": [
    "print(list(map(lambda a: a, range(3))))"
   ]
  },
  {
   "cell_type": "code",
   "execution_count": 4,
   "id": "c19ea14e",
   "metadata": {},
   "outputs": [
    {
     "name": "stdout",
     "output_type": "stream",
     "text": [
      "[(0,), (1,), (2,)]\n"
     ]
    }
   ],
   "source": [
    "print(list(map(lambda *a: a, range(3))))"
   ]
  },
  {
   "cell_type": "code",
   "execution_count": 5,
   "id": "0dae2440",
   "metadata": {},
   "outputs": [
    {
     "name": "stdout",
     "output_type": "stream",
     "text": [
      "[(0, 'a'), (1, 'b'), (2, 'c')]\n"
     ]
    }
   ],
   "source": [
    "print(list(map(lambda *a: a, range(3),'abc')))"
   ]
  },
  {
   "cell_type": "code",
   "execution_count": 6,
   "id": "a6151102",
   "metadata": {},
   "outputs": [
    {
     "name": "stdout",
     "output_type": "stream",
     "text": [
      "[(0, 'a', 3), (1, 'b', 4), (2, 'c', 5)]\n"
     ]
    }
   ],
   "source": [
    "print(list(map(lambda *a: a, range(3),'abc',[3,4,5])))"
   ]
  },
  {
   "cell_type": "code",
   "execution_count": 7,
   "id": "1a2539c0",
   "metadata": {},
   "outputs": [
    {
     "name": "stdout",
     "output_type": "stream",
     "text": [
      "[]\n"
     ]
    }
   ],
   "source": [
    "print(list(map(lambda *a: a, (),'abc'))) # Stops at the shortes decorator"
   ]
  },
  {
   "cell_type": "code",
   "execution_count": 30,
   "id": "6a98e712",
   "metadata": {},
   "outputs": [
    {
     "name": "stdout",
     "output_type": "stream",
     "text": [
      "[{'id': 0, 'credits': {'math': 9, 'physics': 6, 'history': 7}}, {'id': 1, 'credits': {'math': 6, 'physics': 7, 'latin': 10}}, {'id': 2, 'credits': {'math': 8, 'physics': 9, 'chemistry': 10}}, {'id': 3, 'credits': {'math': 5, 'physics': 5, 'geography': 7}}, {'id': 4, 'credits': {'math': 10, 'physics': 2, 'socials': 8}}]\n"
     ]
    }
   ],
   "source": [
    "students = [\n",
    "    {'id':0, 'credits': {'math':9, 'physics':6, 'history':7}},\n",
    "    {'id':1, 'credits': {'math':6, 'physics':7, 'latin':10}},\n",
    "    {'id':2, 'credits': {'math':8, 'physics':9, 'chemistry':10}},\n",
    "    {'id':3, 'credits': {'math':5, 'physics':5, 'geography':7}},\n",
    "    {'id':4, 'credits': {'math':10, 'physics':2, 'socials':8}},\n",
    "]\n",
    "\n",
    "print(students)"
   ]
  },
  {
   "cell_type": "code",
   "execution_count": 44,
   "id": "ec01b348",
   "metadata": {},
   "outputs": [
    {
     "name": "stdout",
     "output_type": "stream",
     "text": [
      "Student Id:0 Total Score : 22\n",
      "Student Id:1 Total Score : 23\n",
      "Student Id:2 Total Score : 27\n",
      "Student Id:3 Total Score : 17\n",
      "Student Id:4 Total Score : 20\n"
     ]
    }
   ],
   "source": [
    "for student in students:\n",
    "    print(f\"Student Id:{student['id']} Total Score : {sum(student['credits'].values())}\")"
   ]
  },
  {
   "cell_type": "code",
   "execution_count": 43,
   "id": "ff69520d",
   "metadata": {},
   "outputs": [
    {
     "name": "stdout",
     "output_type": "stream",
     "text": [
      "['Student Id:0 Max Score : 9', 'Student Id:1 Max Score : 10', 'Student Id:2 Max Score : 10', 'Student Id:3 Max Score : 7', 'Student Id:4 Max Score : 10']\n"
     ]
    }
   ],
   "source": [
    "print([f\"Student Id:{student['id']} Max Score : {max(student['credits'].values())}\" for student in students])"
   ]
  },
  {
   "cell_type": "code",
   "execution_count": 45,
   "id": "8ddc35d5",
   "metadata": {},
   "outputs": [],
   "source": [
    "# create a 2-tuple (sum of credits, student object) from the student disctionary\n",
    "def decorate(student):\n",
    "    return (sum(student['credits'].values()),student)"
   ]
  },
  {
   "cell_type": "code",
   "execution_count": 46,
   "id": "7e79c1ac",
   "metadata": {},
   "outputs": [],
   "source": [
    "# take the decorated student and return the student object\n",
    "def undecorate(decorated_student):\n",
    "    return decorated_student[1]"
   ]
  },
  {
   "cell_type": "code",
   "execution_count": 56,
   "id": "1c692908",
   "metadata": {},
   "outputs": [
    {
     "name": "stdout",
     "output_type": "stream",
     "text": [
      "[(27, {'id': 2, 'credits': {'math': 8, 'physics': 9, 'chemistry': 10}}), (23, {'id': 1, 'credits': {'math': 6, 'physics': 7, 'latin': 10}}), (22, {'id': 0, 'credits': {'math': 9, 'physics': 6, 'history': 7}}), (20, {'id': 4, 'credits': {'math': 10, 'physics': 2, 'socials': 8}}), (17, {'id': 3, 'credits': {'math': 5, 'physics': 5, 'geography': 7}})]\n",
      "[{'id': 2, 'credits': {'math': 8, 'physics': 9, 'chemistry': 10}}, {'id': 1, 'credits': {'math': 6, 'physics': 7, 'latin': 10}}, {'id': 0, 'credits': {'math': 9, 'physics': 6, 'history': 7}}, {'id': 4, 'credits': {'math': 10, 'physics': 2, 'socials': 8}}, {'id': 3, 'credits': {'math': 5, 'physics': 5, 'geography': 7}}]\n"
     ]
    }
   ],
   "source": [
    "#using the map function the decorate function is passed in place of the lambda to perform the tuple \n",
    "#return for every student object\n",
    "students = list(sorted(map(decorate,students), reverse=True))\n",
    "print(students)\n",
    "students = list(map(undecorate,students))\n",
    "print(students)"
   ]
  },
  {
   "cell_type": "code",
   "execution_count": 53,
   "id": "9a953fb8",
   "metadata": {},
   "outputs": [
    {
     "name": "stdout",
     "output_type": "stream",
     "text": [
      "[(3, 'c'), (2, 'b'), (1, 'a')]\n"
     ]
    }
   ],
   "source": [
    "#Sorted Keyword\n",
    "list_numbers = [(1,'a'),(2,'b'),(3,'c')]\n",
    "print(sorted(list_numbers, reverse=True))"
   ]
  },
  {
   "cell_type": "markdown",
   "id": "c5277665",
   "metadata": {},
   "source": [
    "<h2>Zip Functions </h2>"
   ]
  },
  {
   "cell_type": "code",
   "execution_count": 60,
   "id": "b7f393ee",
   "metadata": {},
   "outputs": [],
   "source": [
    "grades = [18,23,30,27]\n",
    "avg = [22,21,29,24]"
   ]
  },
  {
   "cell_type": "code",
   "execution_count": 63,
   "id": "19fb664e",
   "metadata": {},
   "outputs": [
    {
     "name": "stdout",
     "output_type": "stream",
     "text": [
      "[(18, 22), (23, 21), (30, 29), (27, 24)]\n"
     ]
    }
   ],
   "source": [
    "print(list(zip(grades,avg)))"
   ]
  },
  {
   "cell_type": "code",
   "execution_count": 65,
   "id": "24ecf14a",
   "metadata": {},
   "outputs": [
    {
     "name": "stdout",
     "output_type": "stream",
     "text": [
      "[396, 483, 870, 648]\n"
     ]
    }
   ],
   "source": [
    "print(list(map(lambda x:x[0]*x[1],list(zip(grades,avg)))))"
   ]
  },
  {
   "cell_type": "code",
   "execution_count": 66,
   "id": "b1b0f7ab",
   "metadata": {},
   "outputs": [
    {
     "name": "stdout",
     "output_type": "stream",
     "text": [
      "[(5, 3, 6), (9, 7, 8), (2, 1, 0), (4, 9, 5), (7, 2, 3)]\n"
     ]
    }
   ],
   "source": [
    "a = [5,9,2,4,7]\n",
    "b = [3,7,1,9,2]\n",
    "c = [6,8,0,5,3]\n",
    "\n",
    "combined_number = list(zip(a,b,c))\n",
    "print(combined_number)"
   ]
  },
  {
   "cell_type": "code",
   "execution_count": 67,
   "id": "849312e2",
   "metadata": {},
   "outputs": [
    {
     "data": {
      "text/plain": [
       "[6, 9, 2, 9, 7]"
      ]
     },
     "execution_count": 67,
     "metadata": {},
     "output_type": "execute_result"
    }
   ],
   "source": [
    "list(map(lambda x:max(x),combined_number))"
   ]
  },
  {
   "cell_type": "markdown",
   "id": "fb91a2a8",
   "metadata": {},
   "source": [
    "<h2>Filter Functions</h2>"
   ]
  },
  {
   "cell_type": "code",
   "execution_count": 69,
   "id": "2e0a53b5",
   "metadata": {},
   "outputs": [
    {
     "name": "stdout",
     "output_type": "stream",
     "text": [
      "[2, 5, 8, 1]\n"
     ]
    }
   ],
   "source": [
    "test = [2,5,8,0,0,1,0]\n",
    "print(list(filter(None,test)))"
   ]
  },
  {
   "cell_type": "code",
   "execution_count": 70,
   "id": "f1dc3fe8",
   "metadata": {},
   "outputs": [
    {
     "name": "stdout",
     "output_type": "stream",
     "text": [
      "[5, 8]\n"
     ]
    }
   ],
   "source": [
    "print(list(filter(lambda x:x > 4,test)))"
   ]
  },
  {
   "cell_type": "markdown",
   "id": "761c4f7c",
   "metadata": {},
   "source": [
    "<h2>Comprehensions</h2>"
   ]
  },
  {
   "cell_type": "code",
   "execution_count": 76,
   "id": "3c4b9637",
   "metadata": {},
   "outputs": [
    {
     "name": "stdout",
     "output_type": "stream",
     "text": [
      "[0, 4, 16, 36, 64]\n",
      "[0, 4, 16, 36, 64]\n"
     ]
    }
   ],
   "source": [
    "# Get the squares for numbers\n",
    "# [exprsion for x in iterable if filter_expression]\n",
    "# Map Equivalent map(lambda n:n**2,range(10))\n",
    "print([n**2 for n in range(10) if n % 2 == 0])\n",
    "print([n**2 for n in range(10) if  not n % 2])"
   ]
  },
  {
   "cell_type": "markdown",
   "id": "da43632b",
   "metadata": {},
   "source": [
    "<h2>Nested Comprehension</h2>"
   ]
  },
  {
   "cell_type": "code",
   "execution_count": 77,
   "id": "045bfe0f",
   "metadata": {},
   "outputs": [
    {
     "name": "stdout",
     "output_type": "stream",
     "text": [
      "[('A', 'A'), ('A', 'B'), ('A', 'C'), ('A', 'D'), ('B', 'B'), ('B', 'C'), ('B', 'D'), ('C', 'C'), ('C', 'D'), ('D', 'D')]\n"
     ]
    }
   ],
   "source": [
    "items = 'ABCD'\n",
    "pairs = []\n",
    "for a in range(len(items)):\n",
    "    for b in range(a,len(items)):\n",
    "        pairs.append((items[a],items[b]))\n",
    "print(pairs)"
   ]
  },
  {
   "cell_type": "code",
   "execution_count": 78,
   "id": "52db6178",
   "metadata": {},
   "outputs": [
    {
     "name": "stdout",
     "output_type": "stream",
     "text": [
      "[('A', 'A'), ('A', 'B'), ('A', 'C'), ('A', 'D'), ('B', 'B'), ('B', 'C'), ('B', 'D'), ('C', 'C'), ('C', 'D'), ('D', 'D')]\n"
     ]
    }
   ],
   "source": [
    "# Nested comprehension version\n",
    "nested_pairs = [\n",
    "    (items[a],items[b]) \n",
    "    for a in range(len(items)) \n",
    "    for b in range(a,len(items))\n",
    "]\n",
    "print(nested_pairs)"
   ]
  },
  {
   "cell_type": "code",
   "execution_count": null,
   "id": "f3216458",
   "metadata": {},
   "outputs": [],
   "source": []
  }
 ],
 "metadata": {
  "kernelspec": {
   "display_name": "Python 3",
   "language": "python",
   "name": "python3"
  },
  "language_info": {
   "codemirror_mode": {
    "name": "ipython",
    "version": 3
   },
   "file_extension": ".py",
   "mimetype": "text/x-python",
   "name": "python",
   "nbconvert_exporter": "python",
   "pygments_lexer": "ipython3",
   "version": "3.8.8"
  }
 },
 "nbformat": 4,
 "nbformat_minor": 5
}
