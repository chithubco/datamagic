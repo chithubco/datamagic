{
 "cells": [
  {
   "cell_type": "markdown",
   "id": "db80555b",
   "metadata": {},
   "source": [
    "<h2>Set and Dictionary Comprehensions</h2>\n",
    "<p>Creating a dictionary using a set comprehension</p>"
   ]
  },
  {
   "cell_type": "code",
   "execution_count": 2,
   "id": "1d43fb27",
   "metadata": {},
   "outputs": [
    {
     "name": "stdout",
     "output_type": "stream",
     "text": [
      "{'charlie': 15, 'Jean': 11}\n"
     ]
    }
   ],
   "source": [
    "friends = [\"Rolf\",\"ruth\",\"charlie\",\"Jean\"]\n",
    "time_since_seen = [3,7,15,11]\n",
    "\n",
    "result = {\n",
    "    friends[i]:time_since_seen[i]\n",
    "    for i in range(len(friends))\n",
    "    if time_since_seen[i] > 7\n",
    "}\n",
    "print(result)"
   ]
  },
  {
   "cell_type": "markdown",
   "id": "32c51d29",
   "metadata": {},
   "source": [
    "<h2>Zip Function</h2>\n",
    "<p>Zip two list together</p>"
   ]
  },
  {
   "cell_type": "code",
   "execution_count": 3,
   "id": "39c49a44",
   "metadata": {},
   "outputs": [
    {
     "name": "stdout",
     "output_type": "stream",
     "text": [
      "{'Rolf': 3, 'ruth': 7, 'charlie': 15, 'Jean': 11}\n"
     ]
    }
   ],
   "source": [
    "zipped_result = dict(zip(friends,time_since_seen))\n",
    "print(zipped_result)"
   ]
  },
  {
   "cell_type": "markdown",
   "id": "80814ca2",
   "metadata": {},
   "source": [
    "<h2>Enumerate Function</h2>\n",
    "<p>Gives us an index for each item in our loop</p>"
   ]
  },
  {
   "cell_type": "code",
   "execution_count": 5,
   "id": "94b2d92b",
   "metadata": {},
   "outputs": [
    {
     "name": "stdout",
     "output_type": "stream",
     "text": [
      "0\n",
      "Rolf\n",
      "1\n",
      "ruth\n",
      "2\n",
      "charlie\n",
      "3\n",
      "Jean\n"
     ]
    }
   ],
   "source": [
    "for counter, friend in enumerate(friends):\n",
    "    print(counter)\n",
    "    print(friend)"
   ]
  },
  {
   "cell_type": "code",
   "execution_count": 6,
   "id": "a0a399b0",
   "metadata": {},
   "outputs": [
    {
     "name": "stdout",
     "output_type": "stream",
     "text": [
      "[(0, 'Rolf'), (1, 'ruth'), (2, 'charlie'), (3, 'Jean')]\n"
     ]
    }
   ],
   "source": [
    "print(list(enumerate(friends)))"
   ]
  },
  {
   "cell_type": "code",
   "execution_count": 7,
   "id": "370392ee",
   "metadata": {},
   "outputs": [
    {
     "name": "stdout",
     "output_type": "stream",
     "text": [
      "{1: 'Rolf', 2: 'ruth', 3: 'charlie', 4: 'Jean'}\n"
     ]
    }
   ],
   "source": [
    "print(dict(enumerate(friends, start=1)))"
   ]
  },
  {
   "cell_type": "markdown",
   "id": "a1e2b11c",
   "metadata": {},
   "source": [
    "<h2>Lottery Example</h2>\n",
    "<p>Match Lottery winning numbers</p>"
   ]
  },
  {
   "cell_type": "code",
   "execution_count": 11,
   "id": "51dd75f2",
   "metadata": {},
   "outputs": [
    {
     "name": "stdout",
     "output_type": "stream",
     "text": [
      "Rolf won 1000000\n"
     ]
    }
   ],
   "source": [
    "import random\n",
    "lottery_numbers = set(random.sample(range(22),6))\n",
    "    # print(lottery_numbers)\n",
    "\n",
    "players = [\n",
    "    {'name': 'Rolf', 'numbers': {1, 3, 5, 7, 9, 11}},\n",
    "    {'name': 'Charlie', 'numbers': {2, 7, 9, 22, 10, 5}},\n",
    "    {'name': 'Anna', 'numbers': {13, 14, 15, 16, 17, 18}},\n",
    "    {'name': 'Jen', 'numbers': {19, 20, 12, 7, 3, 5}}\n",
    "]\n",
    "current_high = 0\n",
    "current_winner = {}\n",
    "matched_number = 0\n",
    "for player in players:\n",
    "    selected_number = set(player['numbers'])\n",
    "    matched_number = selected_number.intersection(lottery_numbers)\n",
    "    if len(matched_number) > current_high:\n",
    "        current_winner = player\n",
    "         # print(f\"Current Leader: {matched_number}\")\n",
    "        # print(f\"{player['name']} : {len(matched_number)}\")\n",
    "        current_high = len(matched_number)\n",
    "\n",
    "winnings = 100 ** current_high\n",
    "print(f\"{current_winner['name']} won {winnings}\")"
   ]
  },
  {
   "cell_type": "markdown",
   "id": "fc470915",
   "metadata": {},
   "source": [
    "<h2>Map</h2>\n",
    "<p>map(function, iterable)</p>"
   ]
  },
  {
   "cell_type": "code",
   "execution_count": 3,
   "id": "c9303d60",
   "metadata": {},
   "outputs": [
    {
     "name": "stdout",
     "output_type": "stream",
     "text": [
      "[0, 1, 2]\n"
     ]
    }
   ],
   "source": [
    "print(list(map(lambda a: a, range(3))))"
   ]
  },
  {
   "cell_type": "code",
   "execution_count": 4,
   "id": "2215badd",
   "metadata": {},
   "outputs": [
    {
     "name": "stdout",
     "output_type": "stream",
     "text": [
      "[(0,), (1,), (2,)]\n"
     ]
    }
   ],
   "source": [
    "print(list(map(lambda *a: a, range(3))))"
   ]
  },
  {
   "cell_type": "code",
   "execution_count": 5,
   "id": "404c062d",
   "metadata": {},
   "outputs": [
    {
     "name": "stdout",
     "output_type": "stream",
     "text": [
      "[(0, 'a'), (1, 'b'), (2, 'c')]\n"
     ]
    }
   ],
   "source": [
    "print(list(map(lambda *a: a, range(3),'abc')))"
   ]
  },
  {
   "cell_type": "code",
   "execution_count": 6,
   "id": "db2557a3",
   "metadata": {},
   "outputs": [
    {
     "name": "stdout",
     "output_type": "stream",
     "text": [
      "[(0, 'a', 3), (1, 'b', 4), (2, 'c', 5)]\n"
     ]
    }
   ],
   "source": [
    "print(list(map(lambda *a: a, range(3),'abc',[3,4,5])))"
   ]
  },
  {
   "cell_type": "code",
   "execution_count": 7,
   "id": "5a835010",
   "metadata": {},
   "outputs": [
    {
     "name": "stdout",
     "output_type": "stream",
     "text": [
      "[]\n"
     ]
    }
   ],
   "source": [
    "print(list(map(lambda *a: a, (),'abc'))) # Stops at the shortes decorator"
   ]
  },
  {
   "cell_type": "code",
   "execution_count": 30,
   "id": "d6f8d1e3",
   "metadata": {},
   "outputs": [
    {
     "name": "stdout",
     "output_type": "stream",
     "text": [
      "[{'id': 0, 'credits': {'math': 9, 'physics': 6, 'history': 7}}, {'id': 1, 'credits': {'math': 6, 'physics': 7, 'latin': 10}}, {'id': 2, 'credits': {'math': 8, 'physics': 9, 'chemistry': 10}}, {'id': 3, 'credits': {'math': 5, 'physics': 5, 'geography': 7}}, {'id': 4, 'credits': {'math': 10, 'physics': 2, 'socials': 8}}]\n"
     ]
    }
   ],
   "source": [
    "students = [\n",
    "    {'id':0, 'credits': {'math':9, 'physics':6, 'history':7}},\n",
    "    {'id':1, 'credits': {'math':6, 'physics':7, 'latin':10}},\n",
    "    {'id':2, 'credits': {'math':8, 'physics':9, 'chemistry':10}},\n",
    "    {'id':3, 'credits': {'math':5, 'physics':5, 'geography':7}},\n",
    "    {'id':4, 'credits': {'math':10, 'physics':2, 'socials':8}},\n",
    "]\n",
    "\n",
    "print(students)"
   ]
  },
  {
   "cell_type": "code",
   "execution_count": 44,
   "id": "d90d4e21",
   "metadata": {},
   "outputs": [
    {
     "name": "stdout",
     "output_type": "stream",
     "text": [
      "Student Id:0 Total Score : 22\n",
      "Student Id:1 Total Score : 23\n",
      "Student Id:2 Total Score : 27\n",
      "Student Id:3 Total Score : 17\n",
      "Student Id:4 Total Score : 20\n"
     ]
    }
   ],
   "source": [
    "for student in students:\n",
    "    print(f\"Student Id:{student['id']} Total Score : {sum(student['credits'].values())}\")"
   ]
  },
  {
   "cell_type": "code",
   "execution_count": 43,
   "id": "398f569a",
   "metadata": {},
   "outputs": [
    {
     "name": "stdout",
     "output_type": "stream",
     "text": [
      "['Student Id:0 Max Score : 9', 'Student Id:1 Max Score : 10', 'Student Id:2 Max Score : 10', 'Student Id:3 Max Score : 7', 'Student Id:4 Max Score : 10']\n"
     ]
    }
   ],
   "source": [
    "print([f\"Student Id:{student['id']} Max Score : {max(student['credits'].values())}\" for student in students])"
   ]
  },
  {
   "cell_type": "code",
   "execution_count": 45,
   "id": "c1ed76f8",
   "metadata": {},
   "outputs": [],
   "source": [
    "# create a 2-tuple (sum of credits, student object) from the student disctionary\n",
    "def decorate(student):\n",
    "    return (sum(student['credits'].values()),student)"
   ]
  },
  {
   "cell_type": "code",
   "execution_count": 46,
   "id": "cb1c2894",
   "metadata": {},
   "outputs": [],
   "source": [
    "# take the decorated student and return the student object\n",
    "def undecorate(decorated_student):\n",
    "    return decorated_student[1]"
   ]
  },
  {
   "cell_type": "code",
   "execution_count": 56,
   "id": "6220fe75",
   "metadata": {},
   "outputs": [
    {
     "name": "stdout",
     "output_type": "stream",
     "text": [
      "[(27, {'id': 2, 'credits': {'math': 8, 'physics': 9, 'chemistry': 10}}), (23, {'id': 1, 'credits': {'math': 6, 'physics': 7, 'latin': 10}}), (22, {'id': 0, 'credits': {'math': 9, 'physics': 6, 'history': 7}}), (20, {'id': 4, 'credits': {'math': 10, 'physics': 2, 'socials': 8}}), (17, {'id': 3, 'credits': {'math': 5, 'physics': 5, 'geography': 7}})]\n",
      "[{'id': 2, 'credits': {'math': 8, 'physics': 9, 'chemistry': 10}}, {'id': 1, 'credits': {'math': 6, 'physics': 7, 'latin': 10}}, {'id': 0, 'credits': {'math': 9, 'physics': 6, 'history': 7}}, {'id': 4, 'credits': {'math': 10, 'physics': 2, 'socials': 8}}, {'id': 3, 'credits': {'math': 5, 'physics': 5, 'geography': 7}}]\n"
     ]
    }
   ],
   "source": [
    "#using the map function the decorate function is passed in place of the lambda to perform the tuple \n",
    "#return for every student object\n",
    "students = list(sorted(map(decorate,students), reverse=True))\n",
    "print(students)\n",
    "students = list(map(undecorate,students))\n",
    "print(students)"
   ]
  },
  {
   "cell_type": "code",
   "execution_count": 53,
   "id": "f8e64675",
   "metadata": {},
   "outputs": [
    {
     "name": "stdout",
     "output_type": "stream",
     "text": [
      "[(3, 'c'), (2, 'b'), (1, 'a')]\n"
     ]
    }
   ],
   "source": [
    "#Sorted Keyword\n",
    "list_numbers = [(1,'a'),(2,'b'),(3,'c')]\n",
    "print(sorted(list_numbers, reverse=True))"
   ]
  },
  {
   "cell_type": "markdown",
   "id": "25af762f",
   "metadata": {},
   "source": [
    "<h2>Zip Functions </h2>"
   ]
  },
  {
   "cell_type": "code",
   "execution_count": 60,
   "id": "51e6c761",
   "metadata": {},
   "outputs": [],
   "source": [
    "grades = [18,23,30,27]\n",
    "avg = [22,21,29,24]"
   ]
  },
  {
   "cell_type": "code",
   "execution_count": 63,
   "id": "42234cfa",
   "metadata": {},
   "outputs": [
    {
     "name": "stdout",
     "output_type": "stream",
     "text": [
      "[(18, 22), (23, 21), (30, 29), (27, 24)]\n"
     ]
    }
   ],
   "source": [
    "print(list(zip(grades,avg)))"
   ]
  },
  {
   "cell_type": "code",
   "execution_count": 65,
   "id": "ac40c378",
   "metadata": {},
   "outputs": [
    {
     "name": "stdout",
     "output_type": "stream",
     "text": [
      "[396, 483, 870, 648]\n"
     ]
    }
   ],
   "source": [
    "print(list(map(lambda x:x[0]*x[1],list(zip(grades,avg)))))"
   ]
  },
  {
   "cell_type": "code",
   "execution_count": 66,
   "id": "c56a2084",
   "metadata": {},
   "outputs": [
    {
     "name": "stdout",
     "output_type": "stream",
     "text": [
      "[(5, 3, 6), (9, 7, 8), (2, 1, 0), (4, 9, 5), (7, 2, 3)]\n"
     ]
    }
   ],
   "source": [
    "a = [5,9,2,4,7]\n",
    "b = [3,7,1,9,2]\n",
    "c = [6,8,0,5,3]\n",
    "\n",
    "combined_number = list(zip(a,b,c))\n",
    "print(combined_number)"
   ]
  },
  {
   "cell_type": "code",
   "execution_count": 67,
   "id": "1c0090e2",
   "metadata": {},
   "outputs": [
    {
     "data": {
      "text/plain": [
       "[6, 9, 2, 9, 7]"
      ]
     },
     "execution_count": 67,
     "metadata": {},
     "output_type": "execute_result"
    }
   ],
   "source": [
    "list(map(lambda x:max(x),combined_number))"
   ]
  },
  {
   "cell_type": "markdown",
   "id": "081d7b5a",
   "metadata": {},
   "source": [
    "<h2>Filter Functions</h2>\n",
    "<p>filter(expression , iterable)</p>\n",
    "<p>filter(lambda x: x.is_integer(), items) </p>"
   ]
  },
  {
   "cell_type": "code",
   "execution_count": 69,
   "id": "8294f270",
   "metadata": {},
   "outputs": [
    {
     "name": "stdout",
     "output_type": "stream",
     "text": [
      "[2, 5, 8, 1]\n"
     ]
    }
   ],
   "source": [
    "test = [2,5,8,0,0,1,0]\n",
    "print(list(filter(None,test)))"
   ]
  },
  {
   "cell_type": "code",
   "execution_count": 70,
   "id": "bbecb12c",
   "metadata": {},
   "outputs": [
    {
     "name": "stdout",
     "output_type": "stream",
     "text": [
      "[5, 8]\n"
     ]
    }
   ],
   "source": [
    "print(list(filter(lambda x:x > 4,test)))"
   ]
  },
  {
   "cell_type": "markdown",
   "id": "50477d37",
   "metadata": {},
   "source": [
    "<h2>Comprehensions</h2>"
   ]
  },
  {
   "cell_type": "code",
   "execution_count": 76,
   "id": "a64e76ed",
   "metadata": {},
   "outputs": [
    {
     "name": "stdout",
     "output_type": "stream",
     "text": [
      "[0, 4, 16, 36, 64]\n",
      "[0, 4, 16, 36, 64]\n"
     ]
    }
   ],
   "source": [
    "# Get the squares for numbers\n",
    "# [exprsion for x in iterable if filter_expression]\n",
    "# Map Equivalent map(lambda n:n**2,range(10))\n",
    "print([n**2 for n in range(10) if n % 2 == 0])\n",
    "print([n**2 for n in range(10) if  not n % 2])"
   ]
  },
  {
   "cell_type": "markdown",
   "id": "9c216cc0",
   "metadata": {},
   "source": [
    "<h2>Nested Comprehension</h2>"
   ]
  },
  {
   "cell_type": "code",
   "execution_count": 77,
   "id": "0ff5572d",
   "metadata": {},
   "outputs": [
    {
     "name": "stdout",
     "output_type": "stream",
     "text": [
      "[('A', 'A'), ('A', 'B'), ('A', 'C'), ('A', 'D'), ('B', 'B'), ('B', 'C'), ('B', 'D'), ('C', 'C'), ('C', 'D'), ('D', 'D')]\n"
     ]
    }
   ],
   "source": [
    "items = 'ABCD'\n",
    "pairs = []\n",
    "for a in range(len(items)):\n",
    "    for b in range(a,len(items)):\n",
    "        pairs.append((items[a],items[b]))\n",
    "print(pairs)"
   ]
  },
  {
   "cell_type": "code",
   "execution_count": 78,
   "id": "bc8c7248",
   "metadata": {},
   "outputs": [
    {
     "name": "stdout",
     "output_type": "stream",
     "text": [
      "[('A', 'A'), ('A', 'B'), ('A', 'C'), ('A', 'D'), ('B', 'B'), ('B', 'C'), ('B', 'D'), ('C', 'C'), ('C', 'D'), ('D', 'D')]\n"
     ]
    }
   ],
   "source": [
    "# Nested comprehension version\n",
    "nested_pairs = [\n",
    "    (items[a],items[b]) \n",
    "    for a in range(len(items)) \n",
    "    for b in range(a,len(items))\n",
    "]\n",
    "print(nested_pairs)"
   ]
  },
  {
   "cell_type": "code",
   "execution_count": 79,
   "id": "815c1848",
   "metadata": {},
   "outputs": [
    {
     "name": "stdout",
     "output_type": "stream",
     "text": [
      "True\n"
     ]
    }
   ],
   "source": [
    "number = 5.0\n",
    "print(number.is_integer())"
   ]
  },
  {
   "cell_type": "markdown",
   "id": "4d1f2da4",
   "metadata": {},
   "source": [
    "<h2>Dictionary Comprehensions</h2>"
   ]
  },
  {
   "cell_type": "code",
   "execution_count": 85,
   "id": "a7fccbb7",
   "metadata": {},
   "outputs": [
    {
     "name": "stdout",
     "output_type": "stream",
     "text": [
      "{'H': 'h', 'e': 'E', 'l': 'L', 'o': 'O'}\n",
      "{0: 'H', 1: 'e', 2: 'l', 3: 'l', 4: 'o'}\n"
     ]
    }
   ],
   "source": [
    "word = 'Hello'\n",
    "swaps = {c:c.swapcase() for c in word}\n",
    "position = {c:k for c,k in enumerate(word)}\n",
    "print(swaps)\n",
    "print(position)"
   ]
  },
  {
   "cell_type": "code",
   "execution_count": 94,
   "id": "4a83e08d",
   "metadata": {},
   "outputs": [
    {
     "name": "stdout",
     "output_type": "stream",
     "text": [
      "[2, 6, 14]\n"
     ]
    }
   ],
   "source": [
    "#Check the position a letter occurs\n",
    "check = [0,0,1,0,0,0,1,0,0,0,0,0,0,0,1]\n",
    "check_position = {c:k for c,k in enumerate(check) if k == 1}\n",
    "position_list = [a for a in check_position]\n",
    "print(position_list)"
   ]
  },
  {
   "cell_type": "markdown",
   "id": "2c2d6536",
   "metadata": {},
   "source": [
    "<h2>Set Comprehension</h2>"
   ]
  },
  {
   "cell_type": "code",
   "execution_count": 98,
   "id": "5f19476c",
   "metadata": {},
   "outputs": [
    {
     "name": "stdout",
     "output_type": "stream",
     "text": [
      "{'o', 'l', 'e', 'H'}\n",
      "{'o', 'l', 'e', 'H'}\n",
      "True\n"
     ]
    }
   ],
   "source": [
    "letters1 = set(c for c in word)\n",
    "letters2 = {c for c in word}\n",
    "print(letters1)\n",
    "print(letters2)\n",
    "print(letters1 == letters2)"
   ]
  },
  {
   "cell_type": "markdown",
   "id": "27960525",
   "metadata": {},
   "source": [
    "<h2>Generators</h2>"
   ]
  },
  {
   "cell_type": "code",
   "execution_count": 99,
   "id": "a5c35ad1",
   "metadata": {},
   "outputs": [
    {
     "name": "stdout",
     "output_type": "stream",
     "text": [
      "[0, 1, 4, 9, 16, 25, 36, 49, 64, 81]\n"
     ]
    }
   ],
   "source": [
    "def get_squares(n): # classic functional approach\n",
    "    return [x**2 for x in range(n)]\n",
    "print(get_squares(10))"
   ]
  },
  {
   "cell_type": "code",
   "execution_count": 100,
   "id": "e82026cb",
   "metadata": {},
   "outputs": [
    {
     "name": "stdout",
     "output_type": "stream",
     "text": [
      "[0, 1, 4, 9, 16, 25, 36, 49, 64, 81]\n"
     ]
    }
   ],
   "source": [
    "def get_squares_generator(n): # generator approach\n",
    "    for x in range(n):\n",
    "        yield x**2 # we yield we dont return\n",
    "print(list(get_squares_generator(10)))"
   ]
  },
  {
   "cell_type": "code",
   "execution_count": 102,
   "id": "19e9426d",
   "metadata": {},
   "outputs": [
    {
     "name": "stdout",
     "output_type": "stream",
     "text": [
      "2\n",
      "10\n",
      "50\n",
      "250\n",
      "1250\n",
      "6250\n",
      "31250\n"
     ]
    }
   ],
   "source": [
    "# Yield all terms of the geometric progression, 1, aq,aq2,aq3--- then the progression produces a term that is greater\n",
    "#100,000 the generator stops with a return statement\n",
    "def geometric_progression(a,q):\n",
    "    k = 0\n",
    "    while True:\n",
    "        result = a * q**k\n",
    "        if result <=100000:\n",
    "            yield result\n",
    "        else:\n",
    "            return\n",
    "        k += 1\n",
    "\n",
    "for n in geometric_progression(2,5):\n",
    "    print(n)"
   ]
  },
  {
   "cell_type": "code",
   "execution_count": 104,
   "id": "a55f81e9",
   "metadata": {},
   "outputs": [
    {
     "name": "stdout",
     "output_type": "stream",
     "text": [
      "0\n",
      "2\n",
      "4\n",
      "6\n",
      "8\n",
      "10\n",
      "12\n",
      "14\n",
      "16\n",
      "18\n"
     ]
    }
   ],
   "source": [
    "#Generator Objects are iterable\n",
    "#Note you cannot use the len operator on a generator objecet\n",
    "value = (x* 2 for x in range(10)) # change square brackest to ()\n",
    "for x in value:\n",
    "    print(x)\n"
   ]
  },
  {
   "cell_type": "markdown",
   "id": "29fc276b",
   "metadata": {},
   "source": [
    "<h2> Unpacking Operator </h2>"
   ]
  },
  {
   "cell_type": "code",
   "execution_count": 107,
   "id": "86cee50a",
   "metadata": {},
   "outputs": [
    {
     "name": "stdout",
     "output_type": "stream",
     "text": [
      "H e l l o\n"
     ]
    }
   ],
   "source": [
    "#any iterable can be unplacked\n",
    "number = \"Hello\"\n",
    "print(*number) # unpack a container to individual items"
   ]
  },
  {
   "cell_type": "code",
   "execution_count": 108,
   "id": "7548e227",
   "metadata": {},
   "outputs": [
    {
     "name": "stdout",
     "output_type": "stream",
     "text": [
      "[1, 2, 3]\n"
     ]
    }
   ],
   "source": [
    "first = [1,2]\n",
    "second = [3]\n",
    "the_list = [*first,*second]\n",
    "print(the_list)"
   ]
  },
  {
   "cell_type": "code",
   "execution_count": 109,
   "id": "a1327de5",
   "metadata": {},
   "outputs": [
    {
     "name": "stdout",
     "output_type": "stream",
     "text": [
      "{'x': 1, 'y': 2}\n"
     ]
    }
   ],
   "source": [
    "# To unpack a dictionary you need double **\n",
    "#Note if you have multiple items with the same value the last value would be used\n",
    "first_dic = {'x': 1}\n",
    "second_dic = {'y':2}\n",
    "combined_dic = {**first_dic,**second_dic}\n",
    "print(combined_dic)"
   ]
  },
  {
   "cell_type": "markdown",
   "id": "d5a69207",
   "metadata": {},
   "source": [
    "<h2>Excesise Sort Senstence by Frequency of Word</h2>"
   ]
  },
  {
   "cell_type": "code",
   "execution_count": 110,
   "id": "9fa8b145",
   "metadata": {},
   "outputs": [
    {
     "name": "stdout",
     "output_type": "stream",
     "text": [
      "[('i', 5), (' ', 5), ('s', 3), ('n', 3), ('o', 3), ('e', 3), ('t', 2), ('m', 2), ('v', 1), ('w', 1), ('h', 1), ('c', 1), ('a', 1), ('q', 1), ('T', 1), ('u', 1), ('r', 1)]\n"
     ]
    }
   ],
   "source": [
    "sentence = \"This is a common interview question\"\n",
    "letter_occurence = set(sentence)\n",
    "occurence = {y:sentence.count(y) for x,y in enumerate(letter_occurence)}\n",
    "print(sorted(occurence.items(), reverse=True,key=lambda kv:kv[1])) # This allows you to sort a list by the value"
   ]
  },
  {
   "cell_type": "markdown",
   "id": "98a18438",
   "metadata": {},
   "source": [
    "<h2>Count Triangles</h2>\n",
    "<p>An array A consisting of N integers is given. A triplet (P, Q, R) is triangular if it is possible to build a triangle with sides of lengths A[P], A[Q] and A[R]. In other words, triplet (P, Q, R) is triangular if 0 ≤ P < Q < R < N and:\n",
    "\n",
    "A[P] + A[Q] > A[R],\n",
    "A[Q] + A[R] > A[P],\n",
    "A[R] + A[P] > A[Q].\n",
    "For example, consider array A such that:\n",
    "\n",
    "  A[0] = 10    A[1] = 2    A[2] = 5\n",
    "  A[3] = 1     A[4] = 8    A[5] = 12\n",
    "There are four triangular triplets that can be constructed from elements of this array, namely (0, 2, 4), (0, 2, 5), (0, 4, 5), and (2, 4, 5).\n",
    "    Write a function:\n",
    "\n",
    "def solution(A)\n",
    "\n",
    "that, given an array A consisting of N integers, returns the number of triangular triplets in this array.\n",
    "\n",
    "For example, given array A such that:\n",
    "\n",
    "  A[0] = 10    A[1] = 2    A[2] = 5\n",
    "  A[3] = 1     A[4] = 8    A[5] = 12\n",
    "the function should return 4, as explained above.\n",
    "\n",
    "Write an efficient algorithm for the following assumptions:\n",
    "\n",
    "N is an integer within the range [0..1,000];\n",
    "each element of array A is an integer within the range [1..1,000,000,000].</p>"
   ]
  },
  {
   "cell_type": "code",
   "execution_count": 114,
   "id": "04c2f20e",
   "metadata": {},
   "outputs": [
    {
     "name": "stdout",
     "output_type": "stream",
     "text": [
      "1\n"
     ]
    }
   ],
   "source": [
    "def solution(A):\n",
    "    triplet_list = []\n",
    "    # check all items are integers\n",
    "    proceed = True\n",
    "    for x in range(len(A)):\n",
    "        if not isinstance(A[x], int):\n",
    "            proceed = False\n",
    "\n",
    "    if A and len(A) in range(1, 100001) and proceed:\n",
    "        if min(A) > 0 and max(A) <= 1000000000:\n",
    "            for p in range(len(A)):\n",
    "                if isinstance(p, int):\n",
    "                    for q in range(p, len(A)):\n",
    "                        for r in range(q, len(A)):\n",
    "                            if 0 <= p < q < r < len(A):\n",
    "                                if (A[p] + A[q] > A[r]) and (A[q] + A[r] > A[p]) and (A[r] + A[p] > A[q]):\n",
    "                                    triplet_list.append((p, q, r))\n",
    "                else:\n",
    "                    None\n",
    "            return len(triplet_list)\n",
    "        else:\n",
    "            None\n",
    "    else:\n",
    "        None\n",
    "\n",
    "\n",
    "A = [5, 3, 3]\n",
    "\n",
    "print(solution(A))"
   ]
  },
  {
   "cell_type": "markdown",
   "id": "5bb72f7e",
   "metadata": {},
   "source": [
    "<h2>Ex. 2 FrogJmp</h2>\n",
    "<p>A small frog wants to get to the other side of the road. The frog is currently located at position X and wants to get to a position greater than or equal to Y. The small frog always jumps a fixed distance, D.\n",
    "\n",
    "Count the minimal number of jumps that the small frog must perform to reach its target.\n",
    "\n",
    "Write a function:\n",
    "\n",
    "class Solution { public int solution(int X, int Y, int D); }\n",
    "\n",
    "that, given three integers X, Y and D, returns the minimal number of jumps from position X to a position equal to or greater than Y.\n",
    "\n",
    "For example, given:\n",
    "\n",
    "  X = 10\n",
    "  Y = 85\n",
    "  D = 30\n",
    "the function should return 3, because the frog will be positioned as follows:\n",
    "\n",
    "after the first jump, at position 10 + 30 = 40\n",
    "after the second jump, at position 10 + 30 + 30 = 70\n",
    "after the third jump, at position 10 + 30 + 30 + 30 = 100\n",
    "Write an efficient algorithm for the following assumptions:\n",
    "\n",
    "X, Y and D are integers within the range [1..1,000,000,000];\n",
    "X ≤ Y.</p>"
   ]
  },
  {
   "cell_type": "code",
   "execution_count": 116,
   "id": "544c72f2",
   "metadata": {},
   "outputs": [
    {
     "name": "stdout",
     "output_type": "stream",
     "text": [
      "3\n"
     ]
    }
   ],
   "source": [
    "def solution(X, Y, D):\n",
    "    # write your code in Python 3.6\n",
    "    s = (Y-X)/D\n",
    "    return int(-(-s // 1))\n",
    "\n",
    "print(solution(10,85,30))"
   ]
  },
  {
   "cell_type": "markdown",
   "id": "2176089c",
   "metadata": {},
   "source": [
    "<h2> Ex. 3 Odd Occurence in Array </h2>\n",
    "<p>A non-empty array A consisting of N integers is given. The array contains an odd number of elements, and each element of the array can be paired with another element that has the same value, except for one element that is left unpaired.</p>\n",
    "<p>For example, in array A such that:</p>\n",
    "<tt style=\"white-space:pre-wrap\">  A[0] = 9  A[1] = 3  A[2] = 9\n",
    "  A[3] = 3  A[4] = 9  A[5] = 7\n",
    "  A[6] = 9</tt>\n",
    "<blockquote><ul style=\"margin: 10px;padding: 0px;\"><li>the elements at indexes 0 and 2 have value 9,</li>\n",
    "<li>the elements at indexes 1 and 3 have value 3,</li>\n",
    "<li>the elements at indexes 4 and 6 have value 9,</li>\n",
    "<li>the element at index 5 has value 7 and is unpaired.</li>\n",
    "</ul>\n",
    "</blockquote><p>Write a function:</p>\n",
    "<blockquote><p style=\"font-family: monospace; font-size: 9pt; display: block; white-space: pre-wrap\"><tt>def solution(A)</tt></p></blockquote>\n",
    "<p>that, given an array A consisting of N integers fulfilling the above conditions, returns the value of the unpaired element.</p>\n",
    "<p>For example, given array A such that:</p>\n",
    "<tt style=\"white-space:pre-wrap\">  A[0] = 9  A[1] = 3  A[2] = 9\n",
    "  A[3] = 3  A[4] = 9  A[5] = 7\n",
    "  A[6] = 9</tt>\n",
    "<p>the function should return 7, as explained in the example above.</p>\n",
    "<p>Write an <b><b>efficient</b></b> algorithm for the following assumptions:</p>\n",
    "<blockquote><ul style=\"margin: 10px;padding: 0px;\"><li>N is an odd integer within the range [1..1,000,000];</li>\n",
    "<li>each element of array A is an integer within the range [<span class=\"number\">1</span>..<span class=\"number\">1,000,000,000</span>];</li>\n",
    "<li>all but one of the values in A occur an even number of times.</li>\n",
    "</ul>\n",
    "</blockquote></div>\n",
    "<div style=\"margin-top:5px\">\n",
    "<small>Copyright 2009&ndash;2021 by Codility Limited. All Rights Reserved. Unauthorized copying, publication or disclosure prohibited.</small>"
   ]
  },
  {
   "cell_type": "code",
   "execution_count": 117,
   "id": "0e737442",
   "metadata": {},
   "outputs": [
    {
     "name": "stdout",
     "output_type": "stream",
     "text": [
      "3\n"
     ]
    }
   ],
   "source": [
    "# Solution 1\n",
    "def odd_occurence(N):\n",
    "    for x in N:\n",
    "        if N.count(x) % 2:\n",
    "            return x\n",
    "\n",
    "A = [5,3,5]\n",
    "print(odd_occurence(A))"
   ]
  },
  {
   "cell_type": "code",
   "execution_count": 118,
   "id": "ce3e10be",
   "metadata": {},
   "outputs": [
    {
     "name": "stdout",
     "output_type": "stream",
     "text": [
      "3\n"
     ]
    }
   ],
   "source": [
    "#Solution 2\n",
    "def solution(A):\n",
    "    # write your code in Python 3.6\n",
    "    return [x for x in A if A.count(x) % 2][0]\n",
    "\n",
    "A = [5,3,5]\n",
    "print(odd_occurence(A))"
   ]
  },
  {
   "cell_type": "code",
   "execution_count": 122,
   "id": "c0fc1a4a",
   "metadata": {},
   "outputs": [
    {
     "name": "stdout",
     "output_type": "stream",
     "text": [
      "7\n"
     ]
    }
   ],
   "source": [
    "#Best Performance solution 3\n",
    "def odd_occurence(N):\n",
    "    s = set()\n",
    "    for v in N:\n",
    "        if v not in s:\n",
    "            s.add(v)\n",
    "        else:\n",
    "            s.remove(v)\n",
    "    return list(s)[0]\n",
    "\n",
    "A = [9, 3, 9, 3, 7, 9, 9]\n",
    "print(odd_occurence(A))"
   ]
  },
  {
   "cell_type": "markdown",
   "id": "49713ca2",
   "metadata": {},
   "source": [
    "<h2>Binary Gap</h2>\n",
    "<p>A <i>binary gap</i> within a positive integer N is any maximal sequence of consecutive zeros that is surrounded by ones at both ends in the binary representation of N.</p>\n",
    "<p>For example, number 9 has binary representation <tt style=\"white-space:pre-wrap\">1001</tt> and contains a binary gap of length 2. The number 529 has binary representation <tt style=\"white-space:pre-wrap\">1000010001</tt> and contains two binary gaps: one of length 4 and one of length 3. The number 20 has binary representation <tt style=\"white-space:pre-wrap\">10100</tt> and contains one binary gap of length 1. The number 15 has binary representation <tt style=\"white-space:pre-wrap\">1111</tt> and has no binary gaps. The number 32 has binary representation <tt style=\"white-space:pre-wrap\">100000</tt> and has no binary gaps.</p>\n",
    "<p>Write a function:</p>\n",
    "<blockquote><p style=\"font-family: monospace; font-size: 9pt; display: block; white-space: pre-wrap\"><tt>int solution(int N);</tt></p></blockquote>\n",
    "<p>that, given a positive integer N, returns the length of its longest binary gap. The function should return 0 if N doesn&#x27;t contain a binary gap.</p>\n",
    "<p>For example, given N = 1041 the function should return 5, because N has binary representation <tt style=\"white-space:pre-wrap\">10000010001</tt> and so its longest binary gap is of length 5. Given N = 32 the function should return 0, because N has binary representation &#x27;100000&#x27; and thus no binary gaps.</p>\n",
    "<p>Write an <b><b>efficient</b></b> algorithm for the following assumptions:</p>\n",
    "<blockquote><ul style=\"margin: 10px;padding: 0px;\"><li>N is an integer within the range [<span class=\"number\">1</span>..<span class=\"number\">2,147,483,647</span>].</li>\n",
    "</ul>"
   ]
  },
  {
   "cell_type": "code",
   "execution_count": 121,
   "id": "f8ee7a5d",
   "metadata": {},
   "outputs": [
    {
     "name": "stdout",
     "output_type": "stream",
     "text": [
      "2\n"
     ]
    }
   ],
   "source": [
    "def solution(N):\n",
    "    binary = list(bin(N))\n",
    "    check_list = binary[2:]\n",
    "\n",
    "\n",
    "    # remove all trailing zeros\n",
    "    locations = {x: i for x, i in enumerate(check_list) if i == '1'}\n",
    "    max_location = sorted(locations, reverse=True)[0]\n",
    "    for x in range(max_location + 1,len(check_list)):\n",
    "        check_list.pop()\n",
    "\n",
    "    # Convert a list into a string\n",
    "    if check_list.count('1') > 1 and '0' in check_list:\n",
    "        binary_string = \"\".join(map(str,check_list)).strip()\n",
    "        split_string = binary_string.split('1')\n",
    "        # print(split_string)\n",
    "        return [(len(d)) for d in split_string if d == max(split_string)][0]\n",
    "    else:\n",
    "        return 0\n",
    "\n",
    "\n",
    "binary = 328\n",
    "print(solution(binary))"
   ]
  },
  {
   "cell_type": "markdown",
   "id": "e889aa77",
   "metadata": {},
   "source": [
    "<h2>CyclicRotation</h2>"
   ]
  },
  {
   "cell_type": "code",
   "execution_count": 1,
   "id": "ad5f2786",
   "metadata": {},
   "outputs": [
    {
     "name": "stdout",
     "output_type": "stream",
     "text": [
      "None\n",
      "None\n",
      "None\n",
      "None\n"
     ]
    },
    {
     "data": {
      "text/plain": [
       "[1, 2, 3, 4]"
      ]
     },
     "execution_count": 1,
     "metadata": {},
     "output_type": "execute_result"
    }
   ],
   "source": [
    "def solution(A,K):\n",
    "    if len(A) == 0:\n",
    "        return A\n",
    "    else:\n",
    "        for v in range(K):\n",
    "            print(A.insert(0,A.pop()))\n",
    "    return A\n",
    "\n",
    "A = [1,2,3,4]\n",
    "K = 4\n",
    "solution(A,K)"
   ]
  },
  {
   "cell_type": "code",
   "execution_count": null,
   "id": "b2515e64",
   "metadata": {},
   "outputs": [],
   "source": []
  }
 ],
 "metadata": {
  "kernelspec": {
   "display_name": "Python 3",
   "language": "python",
   "name": "python3"
  },
  "language_info": {
   "codemirror_mode": {
    "name": "ipython",
    "version": 3
   },
   "file_extension": ".py",
   "mimetype": "text/x-python",
   "name": "python",
   "nbconvert_exporter": "python",
   "pygments_lexer": "ipython3",
   "version": "3.8.8"
  }
 },
 "nbformat": 4,
 "nbformat_minor": 5
}
